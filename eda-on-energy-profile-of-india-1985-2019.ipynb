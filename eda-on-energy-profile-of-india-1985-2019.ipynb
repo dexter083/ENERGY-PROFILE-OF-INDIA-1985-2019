{
 "cells": [
  {
   "cell_type": "markdown",
   "id": "23bd23ef",
   "metadata": {
    "papermill": {
     "duration": 0.025157,
     "end_time": "2022-04-18T16:22:58.499948",
     "exception": false,
     "start_time": "2022-04-18T16:22:58.474791",
     "status": "completed"
    },
    "tags": []
   },
   "source": [
    "# **EXPLORATORY DATA ANALYSIS ON ENERGY PROFILE OF INDIA 1985-2019**"
   ]
  },
  {
   "cell_type": "markdown",
   "id": "70343e72",
   "metadata": {
    "papermill": {
     "duration": 0.024056,
     "end_time": "2022-04-18T16:22:58.547791",
     "exception": false,
     "start_time": "2022-04-18T16:22:58.523735",
     "status": "completed"
    },
    "tags": []
   },
   "source": [
    "**This notebook is intended to understand & learn the basic EDA Analysis using Python, Here Energy consumption and Electricity production in India is analysed.**"
   ]
  },
  {
   "cell_type": "markdown",
   "id": "9f2a7b1e",
   "metadata": {
    "papermill": {
     "duration": 0.023931,
     "end_time": "2022-04-18T16:22:58.595417",
     "exception": false,
     "start_time": "2022-04-18T16:22:58.571486",
     "status": "completed"
    },
    "tags": []
   },
   "source": [
    "# **LIBRARY IMPORTS**"
   ]
  },
  {
   "cell_type": "code",
   "execution_count": 1,
   "id": "908ff59d",
   "metadata": {
    "_cell_guid": "b1076dfc-b9ad-4769-8c92-a6c4dae69d19",
    "_uuid": "8f2839f25d086af736a60e9eeb907d3b93b6e0e5",
    "execution": {
     "iopub.execute_input": "2022-04-18T16:22:58.645610Z",
     "iopub.status.busy": "2022-04-18T16:22:58.645070Z",
     "iopub.status.idle": "2022-04-18T16:22:58.653931Z",
     "shell.execute_reply": "2022-04-18T16:22:58.653340Z"
    },
    "papermill": {
     "duration": 0.036445,
     "end_time": "2022-04-18T16:22:58.655883",
     "exception": false,
     "start_time": "2022-04-18T16:22:58.619438",
     "status": "completed"
    },
    "tags": []
   },
   "outputs": [],
   "source": [
    "import pandas as pd\n",
    "import numpy as np\n",
    "import matplotlib.pyplot as plt"
   ]
  },
  {
   "cell_type": "markdown",
   "id": "638cbac3",
   "metadata": {
    "papermill": {
     "duration": 0.023442,
     "end_time": "2022-04-18T16:22:58.703192",
     "exception": false,
     "start_time": "2022-04-18T16:22:58.679750",
     "status": "completed"
    },
    "tags": []
   },
   "source": [
    "# **DATA READING**"
   ]
  },
  {
   "cell_type": "markdown",
   "id": "040c84a9",
   "metadata": {
    "papermill": {
     "duration": 0.023496,
     "end_time": "2022-04-18T16:22:58.750512",
     "exception": false,
     "start_time": "2022-04-18T16:22:58.727016",
     "status": "completed"
    },
    "tags": []
   },
   "source": [
    "Dataset is downloaded from https://www.kaggle.com/datasets/shubamsumbria/complete-energy-profile-of-india-1965-2019 & then it was cleaned using Google Sheet."
   ]
  },
  {
   "cell_type": "code",
   "execution_count": 2,
   "id": "4484cc0a",
   "metadata": {
    "execution": {
     "iopub.execute_input": "2022-04-18T16:22:58.801377Z",
     "iopub.status.busy": "2022-04-18T16:22:58.801072Z",
     "iopub.status.idle": "2022-04-18T16:22:58.854732Z",
     "shell.execute_reply": "2022-04-18T16:22:58.854150Z"
    },
    "papermill": {
     "duration": 0.082946,
     "end_time": "2022-04-18T16:22:58.857171",
     "exception": false,
     "start_time": "2022-04-18T16:22:58.774225",
     "status": "completed"
    },
    "tags": []
   },
   "outputs": [
    {
     "data": {
      "text/html": [
       "<div>\n",
       "<style scoped>\n",
       "    .dataframe tbody tr th:only-of-type {\n",
       "        vertical-align: middle;\n",
       "    }\n",
       "\n",
       "    .dataframe tbody tr th {\n",
       "        vertical-align: top;\n",
       "    }\n",
       "\n",
       "    .dataframe thead th {\n",
       "        text-align: right;\n",
       "    }\n",
       "</style>\n",
       "<table border=\"1\" class=\"dataframe\">\n",
       "  <thead>\n",
       "    <tr style=\"text-align: right;\">\n",
       "      <th></th>\n",
       "      <th>Year</th>\n",
       "      <th>Oil Consumption - EJ</th>\n",
       "      <th>Gas Consumption - EJ</th>\n",
       "      <th>Coal Consumption - EJ</th>\n",
       "      <th>Solar Consumption - EJ</th>\n",
       "      <th>Hydro Consumption - EJ</th>\n",
       "      <th>Nuclear Consumption - EJ</th>\n",
       "      <th>Wind Consumption - EJ</th>\n",
       "      <th>Geo Biomass Other - EJ</th>\n",
       "      <th>Biofuels -EJ</th>\n",
       "      <th>...</th>\n",
       "      <th>Hydro (% electricity)</th>\n",
       "      <th>Solar (% electricity)</th>\n",
       "      <th>Wind (% electricity)</th>\n",
       "      <th>Oil (% electricity)</th>\n",
       "      <th>Nuclear (% electricity)</th>\n",
       "      <th>Other renewables (% electricity)</th>\n",
       "      <th>Fossil fuels (% electricity)</th>\n",
       "      <th>Low-carbon electricity (% electricity)</th>\n",
       "      <th>Renewables (% electricity)</th>\n",
       "      <th>Access to electricity (% of population)</th>\n",
       "    </tr>\n",
       "  </thead>\n",
       "  <tbody>\n",
       "    <tr>\n",
       "      <th>0</th>\n",
       "      <td>1985</td>\n",
       "      <td>517.636209</td>\n",
       "      <td>43.228316</td>\n",
       "      <td>857.397765</td>\n",
       "      <td>0.0</td>\n",
       "      <td>143.925242</td>\n",
       "      <td>12.521643</td>\n",
       "      <td>0.0</td>\n",
       "      <td>0.0</td>\n",
       "      <td>0.0</td>\n",
       "      <td>...</td>\n",
       "      <td>27.798811</td>\n",
       "      <td>0.0</td>\n",
       "      <td>0.0</td>\n",
       "      <td>6.367437</td>\n",
       "      <td>2.418525</td>\n",
       "      <td>0.0</td>\n",
       "      <td>69.782664</td>\n",
       "      <td>30.217336</td>\n",
       "      <td>27.798811</td>\n",
       "      <td>NaN</td>\n",
       "    </tr>\n",
       "    <tr>\n",
       "      <th>1</th>\n",
       "      <td>1986</td>\n",
       "      <td>544.259897</td>\n",
       "      <td>60.400292</td>\n",
       "      <td>921.240791</td>\n",
       "      <td>0.0</td>\n",
       "      <td>146.024459</td>\n",
       "      <td>13.945673</td>\n",
       "      <td>0.0</td>\n",
       "      <td>0.0</td>\n",
       "      <td>0.0</td>\n",
       "      <td>...</td>\n",
       "      <td>25.937186</td>\n",
       "      <td>0.0</td>\n",
       "      <td>0.0</td>\n",
       "      <td>5.676021</td>\n",
       "      <td>2.477061</td>\n",
       "      <td>0.0</td>\n",
       "      <td>71.585753</td>\n",
       "      <td>28.414247</td>\n",
       "      <td>25.937186</td>\n",
       "      <td>NaN</td>\n",
       "    </tr>\n",
       "    <tr>\n",
       "      <th>2</th>\n",
       "      <td>1987</td>\n",
       "      <td>561.767229</td>\n",
       "      <td>69.577063</td>\n",
       "      <td>1011.630644</td>\n",
       "      <td>0.0</td>\n",
       "      <td>136.007144</td>\n",
       "      <td>14.780450</td>\n",
       "      <td>0.0</td>\n",
       "      <td>0.0</td>\n",
       "      <td>0.0</td>\n",
       "      <td>...</td>\n",
       "      <td>21.890573</td>\n",
       "      <td>0.0</td>\n",
       "      <td>0.0</td>\n",
       "      <td>5.521987</td>\n",
       "      <td>2.378938</td>\n",
       "      <td>0.0</td>\n",
       "      <td>75.730490</td>\n",
       "      <td>24.269510</td>\n",
       "      <td>21.890573</td>\n",
       "      <td>NaN</td>\n",
       "    </tr>\n",
       "    <tr>\n",
       "      <th>3</th>\n",
       "      <td>1988</td>\n",
       "      <td>616.501285</td>\n",
       "      <td>81.504950</td>\n",
       "      <td>1085.558218</td>\n",
       "      <td>0.0</td>\n",
       "      <td>151.708303</td>\n",
       "      <td>16.879666</td>\n",
       "      <td>0.0</td>\n",
       "      <td>0.0</td>\n",
       "      <td>0.0</td>\n",
       "      <td>...</td>\n",
       "      <td>22.633195</td>\n",
       "      <td>0.0</td>\n",
       "      <td>0.0</td>\n",
       "      <td>5.110967</td>\n",
       "      <td>2.518259</td>\n",
       "      <td>0.0</td>\n",
       "      <td>74.848546</td>\n",
       "      <td>25.151454</td>\n",
       "      <td>22.633195</td>\n",
       "      <td>NaN</td>\n",
       "    </tr>\n",
       "    <tr>\n",
       "      <th>4</th>\n",
       "      <td>1989</td>\n",
       "      <td>667.773179</td>\n",
       "      <td>96.904674</td>\n",
       "      <td>1179.942074</td>\n",
       "      <td>0.0</td>\n",
       "      <td>176.027298</td>\n",
       "      <td>11.171270</td>\n",
       "      <td>0.0</td>\n",
       "      <td>0.0</td>\n",
       "      <td>0.0</td>\n",
       "      <td>...</td>\n",
       "      <td>23.259536</td>\n",
       "      <td>0.0</td>\n",
       "      <td>0.0</td>\n",
       "      <td>4.700007</td>\n",
       "      <td>1.476127</td>\n",
       "      <td>0.0</td>\n",
       "      <td>75.264337</td>\n",
       "      <td>24.735663</td>\n",
       "      <td>23.259536</td>\n",
       "      <td>NaN</td>\n",
       "    </tr>\n",
       "  </tbody>\n",
       "</table>\n",
       "<p>5 rows × 40 columns</p>\n",
       "</div>"
      ],
      "text/plain": [
       "   Year  Oil Consumption - EJ  Gas Consumption - EJ  Coal Consumption - EJ  \\\n",
       "0  1985            517.636209             43.228316             857.397765   \n",
       "1  1986            544.259897             60.400292             921.240791   \n",
       "2  1987            561.767229             69.577063            1011.630644   \n",
       "3  1988            616.501285             81.504950            1085.558218   \n",
       "4  1989            667.773179             96.904674            1179.942074   \n",
       "\n",
       "   Solar Consumption - EJ  Hydro Consumption - EJ  Nuclear Consumption - EJ  \\\n",
       "0                     0.0              143.925242                 12.521643   \n",
       "1                     0.0              146.024459                 13.945673   \n",
       "2                     0.0              136.007144                 14.780450   \n",
       "3                     0.0              151.708303                 16.879666   \n",
       "4                     0.0              176.027298                 11.171270   \n",
       "\n",
       "   Wind Consumption - EJ  Geo Biomass Other - EJ  Biofuels -EJ  ...  \\\n",
       "0                    0.0                     0.0           0.0  ...   \n",
       "1                    0.0                     0.0           0.0  ...   \n",
       "2                    0.0                     0.0           0.0  ...   \n",
       "3                    0.0                     0.0           0.0  ...   \n",
       "4                    0.0                     0.0           0.0  ...   \n",
       "\n",
       "   Hydro (% electricity)  Solar (% electricity)  Wind (% electricity)  \\\n",
       "0              27.798811                    0.0                   0.0   \n",
       "1              25.937186                    0.0                   0.0   \n",
       "2              21.890573                    0.0                   0.0   \n",
       "3              22.633195                    0.0                   0.0   \n",
       "4              23.259536                    0.0                   0.0   \n",
       "\n",
       "   Oil (% electricity)  Nuclear (% electricity)  \\\n",
       "0             6.367437                 2.418525   \n",
       "1             5.676021                 2.477061   \n",
       "2             5.521987                 2.378938   \n",
       "3             5.110967                 2.518259   \n",
       "4             4.700007                 1.476127   \n",
       "\n",
       "   Other renewables (% electricity)  Fossil fuels (% electricity)  \\\n",
       "0                               0.0                     69.782664   \n",
       "1                               0.0                     71.585753   \n",
       "2                               0.0                     75.730490   \n",
       "3                               0.0                     74.848546   \n",
       "4                               0.0                     75.264337   \n",
       "\n",
       "   Low-carbon electricity (% electricity)  Renewables (% electricity)  \\\n",
       "0                               30.217336                   27.798811   \n",
       "1                               28.414247                   25.937186   \n",
       "2                               24.269510                   21.890573   \n",
       "3                               25.151454                   22.633195   \n",
       "4                               24.735663                   23.259536   \n",
       "\n",
       "   Access to electricity (% of population)  \n",
       "0                                      NaN  \n",
       "1                                      NaN  \n",
       "2                                      NaN  \n",
       "3                                      NaN  \n",
       "4                                      NaN  \n",
       "\n",
       "[5 rows x 40 columns]"
      ]
     },
     "execution_count": 2,
     "metadata": {},
     "output_type": "execute_result"
    }
   ],
   "source": [
    "df = pd.read_csv('../input/energy-profile-of-india-19852019/Energy Profile of India 1985 to 2019.csv')\n",
    "df.head()"
   ]
  },
  {
   "cell_type": "markdown",
   "id": "9c270887",
   "metadata": {
    "papermill": {
     "duration": 0.024354,
     "end_time": "2022-04-18T16:22:58.906590",
     "exception": false,
     "start_time": "2022-04-18T16:22:58.882236",
     "status": "completed"
    },
    "tags": []
   },
   "source": [
    "# **COLUMNS NAME MANIPULATION**"
   ]
  },
  {
   "cell_type": "markdown",
   "id": "df5014f1",
   "metadata": {
    "papermill": {
     "duration": 0.02461,
     "end_time": "2022-04-18T16:22:58.956020",
     "exception": false,
     "start_time": "2022-04-18T16:22:58.931410",
     "status": "completed"
    },
    "tags": []
   },
   "source": [
    "All column names are to be lowered case and space between names is replaced by underscore for easy coding."
   ]
  },
  {
   "cell_type": "code",
   "execution_count": 3,
   "id": "7d44192f",
   "metadata": {
    "execution": {
     "iopub.execute_input": "2022-04-18T16:22:59.007688Z",
     "iopub.status.busy": "2022-04-18T16:22:59.007114Z",
     "iopub.status.idle": "2022-04-18T16:22:59.019386Z",
     "shell.execute_reply": "2022-04-18T16:22:59.018585Z"
    },
    "papermill": {
     "duration": 0.040523,
     "end_time": "2022-04-18T16:22:59.021382",
     "exception": false,
     "start_time": "2022-04-18T16:22:58.980859",
     "status": "completed"
    },
    "tags": []
   },
   "outputs": [
    {
     "name": "stdout",
     "output_type": "stream",
     "text": [
      "year\n",
      "oil_consumption_-_ej\n",
      "gas_consumption_-_ej\n",
      "coal_consumption_-_ej\n",
      "solar_consumption_-_ej\n",
      "hydro_consumption_-_ej\n",
      "nuclear_consumption_-_ej\n",
      "wind_consumption_-_ej\n",
      "geo_biomass_other_-_ej\n",
      "biofuels_-ej\n",
      "total_consumption_-ej\n",
      "energy_consumption_per_capita_(kwh)\n",
      "annual_change_primary_energy_consumption_(%)\n",
      "annual_co2_emissions_per_unit_energy_(kg_per_kilowatt-hour)\n",
      "electricity_generation_(twh)\n",
      "electricity_from_coal_(twh)\n",
      "electricity_from_gas_(twh)\n",
      "electricity_from_hydro_(twh)\n",
      "electricity_from_other_renewables_(twh)\n",
      "electricity_from_solar_(twh)\n",
      "electricity_from_oil_(twh)\n",
      "electricity_from_wind_(twh)\n",
      "electricity_from_nuclear_(twh)\n",
      "energy_consumption_per_gdp_(kwh_per_$)\n",
      "fossil_fuels_(%_sub_energy)\n",
      "low-carbon_energy_(%_sub_energy)\n",
      "nuclear_(%_sub_energy)\n",
      "per_capita_electricity_(kwh)\n",
      "coal_(%_electricity)\n",
      "gas_(%_electricity)\n",
      "hydro_(%_electricity)\n",
      "solar_(%_electricity)\n",
      "wind_(%_electricity)\n",
      "oil_(%_electricity)\n",
      "nuclear_(%_electricity)\n",
      "other_renewables_(%_electricity)\n",
      "fossil_fuels_(%_electricity)\n",
      "low-carbon_electricity_(%_electricity)\n",
      "renewables_(%_electricity)\n",
      "access_to_electricity_(%_of_population)\n"
     ]
    }
   ],
   "source": [
    "df.columns = df.columns.str.lower()\n",
    "df.columns = df.columns.str.replace(' ', '_')\n",
    "for col in df.columns:\n",
    "    print(col)"
   ]
  },
  {
   "cell_type": "markdown",
   "id": "e15c912f",
   "metadata": {
    "papermill": {
     "duration": 0.025066,
     "end_time": "2022-04-18T16:22:59.072674",
     "exception": false,
     "start_time": "2022-04-18T16:22:59.047608",
     "status": "completed"
    },
    "tags": []
   },
   "source": [
    "# **ENERGY COMSUMPTION IN INDIA**"
   ]
  },
  {
   "cell_type": "markdown",
   "id": "750d6ccf",
   "metadata": {
    "papermill": {
     "duration": 0.025134,
     "end_time": "2022-04-18T16:22:59.124281",
     "exception": false,
     "start_time": "2022-04-18T16:22:59.099147",
     "status": "completed"
    },
    "tags": []
   },
   "source": [
    "## **Analysing total energy consumption from 1985 to 2019**"
   ]
  },
  {
   "cell_type": "code",
   "execution_count": 4,
   "id": "eacad2d7",
   "metadata": {
    "execution": {
     "iopub.execute_input": "2022-04-18T16:22:59.176610Z",
     "iopub.status.busy": "2022-04-18T16:22:59.176108Z",
     "iopub.status.idle": "2022-04-18T16:22:59.522026Z",
     "shell.execute_reply": "2022-04-18T16:22:59.521147Z"
    },
    "papermill": {
     "duration": 0.374573,
     "end_time": "2022-04-18T16:22:59.524166",
     "exception": false,
     "start_time": "2022-04-18T16:22:59.149593",
     "status": "completed"
    },
    "tags": []
   },
   "outputs": [
    {
     "data": {
      "image/png": "[encoded data removed]",
      "text/plain": [
       "<Figure size 432x288 with 1 Axes>"
      ]
     },
     "metadata": {
      "needs_background": "light"
     },
     "output_type": "display_data"
    }
   ],
   "source": [
    "font1 = {'family':'serif','color':'darkred','size':12}\n",
    "font2 = {'family':'serif','color':'darkred','size':10}\n",
    "\n",
    "plt.title(\"TOTAL ENERGY CONSUMPTION 1985-2019\", fontdict = font1)\n",
    "plt.xlabel(\"Year\",fontdict = font2)\n",
    "plt.ylabel(\"Total Comsumption (EJ)\",fontdict = font2)\n",
    "\n",
    "plt.plot(df['year'],df['total_consumption_-ej'],'-r')\n",
    "\n",
    "plt.grid()\n",
    "plt.show()"
   ]
  },
  {
   "cell_type": "markdown",
   "id": "8b9cd692",
   "metadata": {
    "papermill": {
     "duration": 0.026076,
     "end_time": "2022-04-18T16:22:59.576809",
     "exception": false,
     "start_time": "2022-04-18T16:22:59.550733",
     "status": "completed"
    },
    "tags": []
   },
   "source": [
    "Conclusion: It has beed observed that energy consumption in India have increased by nearly four times in three dacades."
   ]
  },
  {
   "cell_type": "markdown",
   "id": "f0431a6c",
   "metadata": {
    "papermill": {
     "duration": 0.026259,
     "end_time": "2022-04-18T16:22:59.629551",
     "exception": false,
     "start_time": "2022-04-18T16:22:59.603292",
     "status": "completed"
    },
    "tags": []
   },
   "source": [
    "## **Analysing diffrent mode of energy consumption from 1985 to 2019**"
   ]
  },
  {
   "cell_type": "code",
   "execution_count": 5,
   "id": "54e8dfd1",
   "metadata": {
    "execution": {
     "iopub.execute_input": "2022-04-18T16:22:59.684804Z",
     "iopub.status.busy": "2022-04-18T16:22:59.684184Z",
     "iopub.status.idle": "2022-04-18T16:23:00.406747Z",
     "shell.execute_reply": "2022-04-18T16:23:00.406014Z"
    },
    "papermill": {
     "duration": 0.752924,
     "end_time": "2022-04-18T16:23:00.408701",
     "exception": false,
     "start_time": "2022-04-18T16:22:59.655777",
     "status": "completed"
    },
    "tags": []
   },
   "outputs": [
    {
     "data": {
      "text/plain": [
       "[<matplotlib.lines.Line2D at 0x7fdb58962e10>]"
      ]
     },
     "execution_count": 5,
     "metadata": {},
     "output_type": "execute_result"
    },
    {
     "data": {
      "image/png": "[encoded data removed]",
      "text/plain": [
       "<Figure size 432x288 with 8 Axes>"
      ]
     },
     "metadata": {
      "needs_background": "light"
     },
     "output_type": "display_data"
    }
   ],
   "source": [
    "plt.suptitle('VARIOUS MODE OF ENERGY CONSUMPTION (EJ)',fontsize=12)\n",
    "\n",
    "plt.subplot(5, 5, 1)\n",
    "plt.title(\"OIL\")\n",
    "plt.plot(df['year'],df['oil_consumption_-_ej'],'-r')\n",
    "\n",
    "plt.subplot(5, 5, 3)\n",
    "plt.title(\"GAS\")\n",
    "plt.plot(df['year'],df['gas_consumption_-_ej'],'-r')\n",
    "\n",
    "plt.subplot(5, 5, 5)\n",
    "plt.title(\"COAL\")\n",
    "plt.plot(df['year'],df['coal_consumption_-_ej'],'-r')\n",
    "\n",
    "plt.subplot(5, 5, 11)\n",
    "plt.title(\"SOLAR\")\n",
    "plt.plot(df['year'],df['solar_consumption_-_ej'],'-r')\n",
    "\n",
    "plt.subplot(5, 5, 13)\n",
    "plt.title(\"HYDRO\")\n",
    "plt.plot(df['year'],df['hydro_consumption_-_ej'],'-r')\n",
    "\n",
    "plt.subplot(5, 5, 15)\n",
    "plt.title(\"NUCLEAR\")\n",
    "plt.plot(df['year'],df['nuclear_consumption_-_ej'],'-r')\n",
    "\n",
    "plt.subplot(5, 5, 21)\n",
    "plt.title(\"GEO BIOMASS\")\n",
    "plt.plot(df['year'],df['geo_biomass_other_-_ej'],'-r')\n",
    "\n",
    "plt.subplot(5, 5, 23)\n",
    "plt.title(\"BIO FUELS\")\n",
    "plt.plot(df['year'],df['biofuels_-ej'],'-r')"
   ]
  },
  {
   "cell_type": "markdown",
   "id": "35dec69b",
   "metadata": {
    "papermill": {
     "duration": 0.027627,
     "end_time": "2022-04-18T16:23:00.465198",
     "exception": false,
     "start_time": "2022-04-18T16:23:00.437571",
     "status": "completed"
    },
    "tags": []
   },
   "source": [
    "Conclusion: Though oil,gas & coal consumption increased in India, but it can be seen that India have significantly increased the consumption of Green energy in the form of Solar, Geo Biomass."
   ]
  },
  {
   "cell_type": "markdown",
   "id": "3d35b81b",
   "metadata": {
    "papermill": {
     "duration": 0.027419,
     "end_time": "2022-04-18T16:23:00.520302",
     "exception": false,
     "start_time": "2022-04-18T16:23:00.492883",
     "status": "completed"
    },
    "tags": []
   },
   "source": [
    "## **Analysing Annual CO2 Emission from 1985 to 2019**"
   ]
  },
  {
   "cell_type": "code",
   "execution_count": 6,
   "id": "e04c8711",
   "metadata": {
    "execution": {
     "iopub.execute_input": "2022-04-18T16:23:00.577325Z",
     "iopub.status.busy": "2022-04-18T16:23:00.577056Z",
     "iopub.status.idle": "2022-04-18T16:23:00.783106Z",
     "shell.execute_reply": "2022-04-18T16:23:00.782318Z"
    },
    "papermill": {
     "duration": 0.237387,
     "end_time": "2022-04-18T16:23:00.785468",
     "exception": false,
     "start_time": "2022-04-18T16:23:00.548081",
     "status": "completed"
    },
    "tags": []
   },
   "outputs": [
    {
     "data": {
      "image/png": "[encoded data removed]",
      "text/plain": [
       "<Figure size 432x288 with 1 Axes>"
      ]
     },
     "metadata": {
      "needs_background": "light"
     },
     "output_type": "display_data"
    }
   ],
   "source": [
    "font1 = {'family':'serif','color':'darkred','size':12}\n",
    "font2 = {'family':'serif','color':'darkred','size':10}\n",
    "\n",
    "plt.title(\"ANNUAL CO2 EMISSION PER UNIT ENERGY (kg_per_kilowatt-hour)\", fontdict = font1)\n",
    "plt.xlabel(\"Year\",fontdict = font2)\n",
    "plt.ylabel(\"Annual CO2 Emission/Unit Energy\",fontdict = font2)\n",
    "\n",
    "plt.plot(df['year'],df['annual_co2_emissions_per_unit_energy_(kg_per_kilowatt-hour)'],'-r')\n",
    "\n",
    "plt.grid()\n",
    "plt.show()"
   ]
  },
  {
   "cell_type": "markdown",
   "id": "71c2e825",
   "metadata": {
    "papermill": {
     "duration": 0.029671,
     "end_time": "2022-04-18T16:23:00.844204",
     "exception": false,
     "start_time": "2022-04-18T16:23:00.814533",
     "status": "completed"
    },
    "tags": []
   },
   "source": [
    "Conclusion: It has beed observed that Annual CO2 emission have increased especially from 2006 to 2016"
   ]
  },
  {
   "cell_type": "markdown",
   "id": "513112b5",
   "metadata": {
    "papermill": {
     "duration": 0.028517,
     "end_time": "2022-04-18T16:23:00.901661",
     "exception": false,
     "start_time": "2022-04-18T16:23:00.873144",
     "status": "completed"
    },
    "tags": []
   },
   "source": [
    "# **ELECTRICITY GENERATION IN INDIA**"
   ]
  },
  {
   "cell_type": "markdown",
   "id": "fb320152",
   "metadata": {
    "papermill": {
     "duration": 0.028712,
     "end_time": "2022-04-18T16:23:00.959650",
     "exception": false,
     "start_time": "2022-04-18T16:23:00.930938",
     "status": "completed"
    },
    "tags": []
   },
   "source": [
    "## **Analysing total electricity generation from 1985 to 2019**"
   ]
  },
  {
   "cell_type": "code",
   "execution_count": 7,
   "id": "5f075422",
   "metadata": {
    "execution": {
     "iopub.execute_input": "2022-04-18T16:23:01.019671Z",
     "iopub.status.busy": "2022-04-18T16:23:01.019124Z",
     "iopub.status.idle": "2022-04-18T16:23:01.223337Z",
     "shell.execute_reply": "2022-04-18T16:23:01.222350Z"
    },
    "papermill": {
     "duration": 0.237151,
     "end_time": "2022-04-18T16:23:01.225530",
     "exception": false,
     "start_time": "2022-04-18T16:23:00.988379",
     "status": "completed"
    },
    "tags": []
   },
   "outputs": [
    {
     "data": {
      "image/png": "[encoded data removed]",
      "text/plain": [
       "<Figure size 432x288 with 1 Axes>"
      ]
     },
     "metadata": {
      "needs_background": "light"
     },
     "output_type": "display_data"
    }
   ],
   "source": [
    "font1 = {'family':'serif','color':'blue','size':12}\n",
    "font2 = {'family':'serif','color':'blue','size':10}\n",
    "\n",
    "plt.title(\"TOTAL ELECTRICITY GENERATION 1985-2019\", fontdict = font1)\n",
    "plt.xlabel(\"Year\",fontdict = font2)\n",
    "plt.ylabel(\"Total Electricity Generation (TWh)\",fontdict = font2)\n",
    "\n",
    "plt.plot(df['year'],df['electricity_generation_(twh)'])\n",
    "\n",
    "plt.grid()\n",
    "plt.show()"
   ]
  },
  {
   "cell_type": "markdown",
   "id": "17fd875d",
   "metadata": {
    "papermill": {
     "duration": 0.030207,
     "end_time": "2022-04-18T16:23:01.287088",
     "exception": false,
     "start_time": "2022-04-18T16:23:01.256881",
     "status": "completed"
    },
    "tags": []
   },
   "source": [
    "Conclusion: It has beed observed that India have increased it electricity production by seven times from 1985 to 2019."
   ]
  },
  {
   "cell_type": "markdown",
   "id": "f43b7c6d",
   "metadata": {
    "papermill": {
     "duration": 0.02979,
     "end_time": "2022-04-18T16:23:01.347224",
     "exception": false,
     "start_time": "2022-04-18T16:23:01.317434",
     "status": "completed"
    },
    "tags": []
   },
   "source": [
    "## **Analysing diffrent methods to generate electricity from 1985 to 2019**"
   ]
  },
  {
   "cell_type": "code",
   "execution_count": 8,
   "id": "c40ad87d",
   "metadata": {
    "execution": {
     "iopub.execute_input": "2022-04-18T16:23:01.409870Z",
     "iopub.status.busy": "2022-04-18T16:23:01.409444Z",
     "iopub.status.idle": "2022-04-18T16:23:02.109202Z",
     "shell.execute_reply": "2022-04-18T16:23:02.108310Z"
    },
    "papermill": {
     "duration": 0.733586,
     "end_time": "2022-04-18T16:23:02.111318",
     "exception": false,
     "start_time": "2022-04-18T16:23:01.377732",
     "status": "completed"
    },
    "tags": []
   },
   "outputs": [
    {
     "data": {
      "text/plain": [
       "[<matplotlib.lines.Line2D at 0x7fdb44c90a10>]"
      ]
     },
     "execution_count": 8,
     "metadata": {},
     "output_type": "execute_result"
    },
    {
     "data": {
      "image/png": "[encoded data removed]",
      "text/plain": [
       "<Figure size 432x288 with 8 Axes>"
      ]
     },
     "metadata": {
      "needs_background": "light"
     },
     "output_type": "display_data"
    }
   ],
   "source": [
    "plt.suptitle('VARIOUS MODE OF ELECTRICITY GENERATION (TWh))',fontsize=12)\n",
    "\n",
    "plt.subplot(5, 5, 1)\n",
    "plt.title(\"COAL\")\n",
    "plt.plot(df['year'],df['electricity_from_coal_(twh)'],'-b')\n",
    "\n",
    "plt.subplot(5, 5, 3)\n",
    "plt.title(\"GAS\")\n",
    "plt.plot(df['year'],df['electricity_from_gas_(twh)'],'-b')\n",
    "\n",
    "plt.subplot(5, 5, 5)\n",
    "plt.title(\"HYDRO\")\n",
    "plt.plot(df['year'],df['electricity_from_hydro_(twh)'],'-b')\n",
    "\n",
    "plt.subplot(5, 5, 11)\n",
    "plt.title(\"NUCLEAR\")\n",
    "plt.plot(df['year'],df['electricity_from_nuclear_(twh)'],'-b')\n",
    "\n",
    "plt.subplot(5, 5, 13)\n",
    "plt.title(\"SOLAR\")\n",
    "plt.plot(df['year'],df['electricity_from_solar_(twh)'],'-b')\n",
    "\n",
    "plt.subplot(5, 5, 15)\n",
    "plt.title(\"OIL\")\n",
    "plt.plot(df['year'],df['electricity_from_oil_(twh)'],'-b')\n",
    "\n",
    "plt.subplot(5, 5, 21)\n",
    "plt.title(\"WIND\")\n",
    "plt.plot(df['year'],df['electricity_from_wind_(twh)'],'-b')\n",
    "\n",
    "plt.subplot(5, 5, 23)\n",
    "plt.title(\"OTHER RENEWABLES\")\n",
    "plt.plot(df['year'],df['electricity_from_other_renewables_(twh)'],'-b')"
   ]
  },
  {
   "cell_type": "markdown",
   "id": "911d357c",
   "metadata": {
    "papermill": {
     "duration": 0.031264,
     "end_time": "2022-04-18T16:23:02.174281",
     "exception": false,
     "start_time": "2022-04-18T16:23:02.143017",
     "status": "completed"
    },
    "tags": []
   },
   "source": [
    "Conclusion: Coal is still the primary source of electricity for India but at the same time it can be observed that Renewable source of electricity have also started to contribute into total electricity in India. Also it is observed that now oil is no more a significant source of electricity in India."
   ]
  },
  {
   "cell_type": "markdown",
   "id": "f9129d9b",
   "metadata": {
    "papermill": {
     "duration": 0.031433,
     "end_time": "2022-04-18T16:23:02.237664",
     "exception": false,
     "start_time": "2022-04-18T16:23:02.206231",
     "status": "completed"
    },
    "tags": []
   },
   "source": [
    "## **Analysing that what percentage of Indian Population have access to electricity from 1995 to 2019**"
   ]
  },
  {
   "cell_type": "code",
   "execution_count": 9,
   "id": "2129c69a",
   "metadata": {
    "execution": {
     "iopub.execute_input": "2022-04-18T16:23:02.302386Z",
     "iopub.status.busy": "2022-04-18T16:23:02.301967Z",
     "iopub.status.idle": "2022-04-18T16:23:02.485691Z",
     "shell.execute_reply": "2022-04-18T16:23:02.484870Z"
    },
    "papermill": {
     "duration": 0.218633,
     "end_time": "2022-04-18T16:23:02.487828",
     "exception": false,
     "start_time": "2022-04-18T16:23:02.269195",
     "status": "completed"
    },
    "tags": []
   },
   "outputs": [
    {
     "data": {
      "image/png": "[encoded data removed]",
      "text/plain": [
       "<Figure size 432x288 with 1 Axes>"
      ]
     },
     "metadata": {
      "needs_background": "light"
     },
     "output_type": "display_data"
    }
   ],
   "source": [
    "font1 = {'family':'serif','color':'blue','size':15}\n",
    "font2 = {'family':'serif','color':'blue','size':12}\n",
    "\n",
    "plt.title(\"ACCESS TO ELECTRICITY\", fontdict = font1)\n",
    "plt.xlabel(\"Year\",fontdict = font2)\n",
    "plt.ylabel(\"% Polulation\",fontdict = font2)\n",
    "\n",
    "plt.plot(df['year'],df['access_to_electricity_(%_of_population)'])\n",
    "\n",
    "plt.grid()\n",
    "plt.show()"
   ]
  },
  {
   "cell_type": "markdown",
   "id": "163ed4ce",
   "metadata": {
    "papermill": {
     "duration": 0.032523,
     "end_time": "2022-04-18T16:23:02.552963",
     "exception": false,
     "start_time": "2022-04-18T16:23:02.520440",
     "status": "completed"
    },
    "tags": []
   },
   "source": [
    "Conclusion: It can be observed from above graph that more Indian Population is have access to electricity, though a significant dip was recorded after 2010 but it improved from 2012."
   ]
  },
  {
   "cell_type": "markdown",
   "id": "9b3dfdc0",
   "metadata": {
    "papermill": {
     "duration": 0.032442,
     "end_time": "2022-04-18T16:23:02.618051",
     "exception": false,
     "start_time": "2022-04-18T16:23:02.585609",
     "status": "completed"
    },
    "tags": []
   },
   "source": [
    "## **Analysing that Clean electricity generation in India from 1985 to 2019**"
   ]
  },
  {
   "cell_type": "code",
   "execution_count": 10,
   "id": "944b2b72",
   "metadata": {
    "execution": {
     "iopub.execute_input": "2022-04-18T16:23:02.685801Z",
     "iopub.status.busy": "2022-04-18T16:23:02.685396Z",
     "iopub.status.idle": "2022-04-18T16:23:02.905526Z",
     "shell.execute_reply": "2022-04-18T16:23:02.904623Z"
    },
    "papermill": {
     "duration": 0.257115,
     "end_time": "2022-04-18T16:23:02.907691",
     "exception": false,
     "start_time": "2022-04-18T16:23:02.650576",
     "status": "completed"
    },
    "tags": []
   },
   "outputs": [
    {
     "data": {
      "image/png": "[encoded data removed]",
      "text/plain": [
       "<Figure size 432x288 with 1 Axes>"
      ]
     },
     "metadata": {
      "needs_background": "light"
     },
     "output_type": "display_data"
    }
   ],
   "source": [
    "font1 = {'family':'serif','color':'blue','size':12}\n",
    "font2 = {'family':'serif','color':'blue','size':10}\n",
    "\n",
    "plt.title(\"GREEN ELECTRICITY GENERATION IN INDIA\", fontdict = font1)\n",
    "plt.xlabel(\"Year\",fontdict = font2)\n",
    "plt.ylabel(\"Electricity Generated (TWh)\",fontdict = font2)\n",
    "\n",
    "plt.plot(df['year'],df['electricity_from_solar_(twh)'])\n",
    "plt.plot(df['year'],df['electricity_from_wind_(twh)'])\n",
    "\n",
    "plt.legend(['Solar','Wind'])\n",
    "\n",
    "plt.grid()\n",
    "plt.show()"
   ]
  },
  {
   "cell_type": "markdown",
   "id": "cda04989",
   "metadata": {
    "papermill": {
     "duration": 0.034229,
     "end_time": "2022-04-18T16:23:02.976645",
     "exception": false,
     "start_time": "2022-04-18T16:23:02.942416",
     "status": "completed"
    },
    "tags": []
   },
   "source": [
    "Conclusion: A good spike in Solar and Wind energy from 2010 is visible from above graph, which can be considered a positive sigh as it show that India is shifting towards a greener future."
   ]
  }
 ],
 "metadata": {
  "kernelspec": {
   "display_name": "Python 3",
   "language": "python",
   "name": "python3"
  },
  "language_info": {
   "codemirror_mode": {
    "name": "ipython",
    "version": 3
   },
   "file_extension": ".py",
   "mimetype": "text/x-python",
   "name": "python",
   "nbconvert_exporter": "python",
   "pygments_lexer": "ipython3",
   "version": "3.7.12"
  },
  "papermill": {
   "default_parameters": {},
   "duration": 15.086574,
   "end_time": "2022-04-18T16:23:03.631558",
   "environment_variables": {},
   "exception": null,
   "input_path": "__notebook__.ipynb",
   "output_path": "__notebook__.ipynb",
   "parameters": {},
   "start_time": "2022-04-18T16:22:48.544984",
   "version": "2.3.4"
  }
 },
 "nbformat": 4,
 "nbformat_minor": 5
}
